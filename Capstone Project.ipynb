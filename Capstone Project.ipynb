
# coding: utf-8

# # Coursera Capstone Project
# #### This will be the base for my upcoming Capstone Project on Coursera.

# In[1]:


import pandas as pd
import numpy as pd 


# In[2]:


statement = "Hello Capstone Project Course!"
print(statement)

